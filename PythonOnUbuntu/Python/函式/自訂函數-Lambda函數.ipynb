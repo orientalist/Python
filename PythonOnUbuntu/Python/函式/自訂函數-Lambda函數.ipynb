{
 "cells": [
  {
   "cell_type": "code",
   "execution_count": 1,
   "metadata": {},
   "outputs": [
    {
     "name": "stdout",
     "output_type": "stream",
     "text": [
      "9\n"
     ]
    }
   ],
   "source": [
    "'''\n",
    "    又稱匿名函數\n",
    "    不須def,return\n",
    "    語法：lambda 輸入：輸出(可為運算式)\n",
    "'''\n",
    "#自訂函數：#\n",
    "def square(x):\n",
    "    return x**2\n",
    "print(square(3))"
   ]
  },
  {
   "cell_type": "code",
   "execution_count": 2,
   "metadata": {},
   "outputs": [
    {
     "name": "stdout",
     "output_type": "stream",
     "text": [
      "9\n"
     ]
    }
   ],
   "source": [
    "#Lambda函數#\n",
    "square=lambda x:x**2\n",
    "print(square(3))"
   ]
  },
  {
   "cell_type": "code",
   "execution_count": 20,
   "metadata": {},
   "outputs": [
    {
     "name": "stdout",
     "output_type": "stream",
     "text": [
      "[2, 4, 6, 8, 10]\n",
      "[6, 7, 8, 9, 10]\n"
     ]
    }
   ],
   "source": [
    "'''\n",
    "    lambda函數常搭配filter(),map()使用\n",
    "'''\n",
    "'''\n",
    "    filter():\n",
    "    filter(lambda函式,指派值(通常為集合)進入前lambda運算)-回傳運算結果為True值\n",
    "    即過濾出lambda運算為True的值\n",
    "    回傳filter object\n",
    "'''\n",
    "print(list(filter(lambda x:x%2==0,range(1,11))))\n",
    "print(list(filter(lambda x:x>5,range(1,11))))"
   ]
  },
  {
   "cell_type": "code",
   "execution_count": 21,
   "metadata": {},
   "outputs": [
    {
     "name": "stdout",
     "output_type": "stream",
     "text": [
      "[1, 4, 9, 16, 25, 36, 49, 64, 81, 100]\n"
     ]
    }
   ],
   "source": [
    "'''\n",
    "    map():\n",
    "    將lambda函式運用到資料結構(list/tuple...)\n",
    "    回傳資料結構元素進入lamnda運算的結果\n",
    "    map(lambda expression,data structure)\n",
    "    回傳map object\n",
    "'''\n",
    "print(list(map(lambda x:x**2,range(1,11))))"
   ]
  },
  {
   "cell_type": "code",
   "execution_count": 67,
   "metadata": {},
   "outputs": [
    {
     "name": "stdout",
     "output_type": "stream",
     "text": [
      "請輸入第一數2\n",
      "請輸入第二數-50\n",
      "[2]\n"
     ]
    }
   ],
   "source": [
    "#練習 找兩數間質數\n",
    "def find_prim(first_num,second_num):\n",
    "    if second_num<first_num:\n",
    "        tmp=first_num\n",
    "        first_num=second_num\n",
    "        second_num=tmp\n",
    "        \n",
    "    if first_num<=1:\n",
    "        first_num=2\n",
    "    \n",
    "    result=[]\n",
    "    for number_to_check in range(first_num,second_num+1):        \n",
    "        if len(list(filter(lambda x:number_to_check%x==0,range(2,number_to_check))))<1:\n",
    "            result.append(number_to_check)\n",
    "    return result;\n",
    "first=int(input(\"請輸入第一數\"))\n",
    "second=int(input(\"請輸入第二數\"))\n",
    "print(find_prim(first,second))        "
   ]
  },
  {
   "cell_type": "code",
   "execution_count": 81,
   "metadata": {},
   "outputs": [
    {
     "name": "stdout",
     "output_type": "stream",
     "text": [
      "25\n"
     ]
    }
   ],
   "source": [
    "#將自定函數用於lambda函數\n",
    "def is_Prime(x):\n",
    "    if(x<=1):\n",
    "        return False\n",
    "    factorials=[]\n",
    "    for num in range(2,x):\n",
    "        if(x%num==0):\n",
    "            factorials.append(num)\n",
    "    if len(factorials)>0:\n",
    "        return False\n",
    "    else:\n",
    "        return True\n",
    "\n",
    "def numbersOfPrime(x,y):    \n",
    "    print(sum(list(map(is_Prime,range(x,y+1)))))        \n",
    "numbersOfPrime(1,99)"
   ]
  },
  {
   "cell_type": "code",
   "execution_count": null,
   "metadata": {},
   "outputs": [],
   "source": []
  }
 ],
 "metadata": {
  "kernelspec": {
   "display_name": "Python 3",
   "language": "python",
   "name": "python3"
  },
  "language_info": {
   "codemirror_mode": {
    "name": "ipython",
    "version": 3
   },
   "file_extension": ".py",
   "mimetype": "text/x-python",
   "name": "python",
   "nbconvert_exporter": "python",
   "pygments_lexer": "ipython3",
   "version": "3.7.1"
  }
 },
 "nbformat": 4,
 "nbformat_minor": 2
}
