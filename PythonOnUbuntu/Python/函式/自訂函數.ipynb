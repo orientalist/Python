{
 "cells": [
  {
   "cell_type": "code",
   "execution_count": 9,
   "metadata": {},
   "outputs": [
    {
     "name": "stdout",
     "output_type": "stream",
     "text": [
      "78.53981633974483\n",
      "31.41592653589793\n"
     ]
    }
   ],
   "source": [
    "#結構：#\n",
    "#def 函數名稱[自訂](參數[自訂]):#\n",
    "#  區域程式碼  #\n",
    "#  return 輸出#\n",
    "import math\n",
    "\n",
    "def circle_cal(r,is_area):\n",
    "    '''\n",
    "        is_area 為 True 算面積\n",
    "        False 算週長\n",
    "    '''\n",
    "    if is_area:\n",
    "        return r**2*math.pi\n",
    "    else:\n",
    "        return 2*r*math.pi\n",
    "\n",
    "print(circle_cal(5,True))\n",
    "print(circle_cal(5,False))"
   ]
  },
  {
   "cell_type": "code",
   "execution_count": 10,
   "metadata": {},
   "outputs": [
    {
     "name": "stdout",
     "output_type": "stream",
     "text": [
      "Help on function circle_cal in module __main__:\n",
      "\n",
      "circle_cal(r, is_area)\n",
      "    is_area 為 True 算面積\n",
      "    False 算週長\n",
      "\n"
     ]
    }
   ],
   "source": [
    "#help含式可檢視函式說明文件（自訂）#\n",
    "help(circle_cal)"
   ]
  },
  {
   "cell_type": "code",
   "execution_count": 11,
   "metadata": {},
   "outputs": [
    {
     "name": "stdout",
     "output_type": "stream",
     "text": [
      "254.46900494077323\n"
     ]
    }
   ],
   "source": [
    "#預設參數#\n",
    "def circle_cal_def(r,is_area=True):\n",
    "    '''\n",
    "        is_area 為 True 算面積\n",
    "        False 算週長\n",
    "        is_area預設為True\n",
    "    '''\n",
    "    if is_area:\n",
    "        return r**2*math.pi\n",
    "    else:\n",
    "        return 2*r*math.pi\n",
    "\n",
    "print(circle_cal_def(9))"
   ]
  },
  {
   "cell_type": "code",
   "execution_count": 14,
   "metadata": {},
   "outputs": [
    {
     "name": "stdout",
     "output_type": "stream",
     "text": [
      "(28.274333882308138, 18.84955592153876)\n"
     ]
    }
   ],
   "source": [
    "#多重輸出#\n",
    "#return後以,隔開多個輸出#\n",
    "#會以tuple回傳#\n",
    "def circle_cal_mult(r):\n",
    "    area=math.pi*r**2\n",
    "    circum=2*r*math.pi\n",
    "    return area,circum\n",
    "\n",
    "print(circle_cal_mult(3))"
   ]
  },
  {
   "cell_type": "code",
   "execution_count": 18,
   "metadata": {},
   "outputs": [
    {
     "name": "stdout",
     "output_type": "stream",
     "text": [
      "28.274333882308138\n",
      "18.84955592153876\n"
     ]
    }
   ],
   "source": [
    "#多重指派-將多重輸出的函式回傳值依序指派給變數#\n",
    "circle_area,circle_circum=circle_cal_mult(3)\n",
    "print(circle_area)\n",
    "print(circle_circum)"
   ]
  },
  {
   "cell_type": "code",
   "execution_count": 46,
   "metadata": {},
   "outputs": [
    {
     "name": "stdout",
     "output_type": "stream",
     "text": [
      "False\n"
     ]
    }
   ],
   "source": [
    "#練習-質數判斷#\n",
    "def isPrime(number):\n",
    "    if number<=1:\n",
    "        return False\n",
    "    _isPrime=True\n",
    "    for i in range(2,number):\n",
    "        if(number%i==0):\n",
    "            _isPrime=False\n",
    "            break\n",
    "    return _isPrime\n",
    "print(isPrime(1))"
   ]
  },
  {
   "cell_type": "code",
   "execution_count": null,
   "metadata": {},
   "outputs": [],
   "source": []
  }
 ],
 "metadata": {
  "kernelspec": {
   "display_name": "Python 3",
   "language": "python",
   "name": "python3"
  },
  "language_info": {
   "codemirror_mode": {
    "name": "ipython",
    "version": 3
   },
   "file_extension": ".py",
   "mimetype": "text/x-python",
   "name": "python",
   "nbconvert_exporter": "python",
   "pygments_lexer": "ipython3",
   "version": "3.7.1"
  }
 },
 "nbformat": 4,
 "nbformat_minor": 2
}
