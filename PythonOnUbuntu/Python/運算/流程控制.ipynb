{
 "cells": [
  {
   "cell_type": "code",
   "execution_count": 20,
   "metadata": {},
   "outputs": [
    {
     "name": "stdout",
     "output_type": "stream",
     "text": [
      "天氣是Rainny,去電影院\n"
     ]
    }
   ],
   "source": [
    "#if: else:#\n",
    "from random import choice\n",
    "\n",
    "weathers=[\"Sunny\",\"Rainny\",\"Cloudy\"]\n",
    "today=choice(weathers)\n",
    "\n",
    "if today==\"Sunny\":\n",
    "    print(\"天氣是%s,去運動\"%today)\n",
    "else:\n",
    "    print(\"天氣是%s,去電影院\"%today)"
   ]
  },
  {
   "cell_type": "code",
   "execution_count": 32,
   "metadata": {},
   "outputs": [
    {
     "name": "stdout",
     "output_type": "stream",
     "text": [
      "天氣是Rainny,去電影院\n"
     ]
    }
   ],
   "source": [
    "#if: elif: else:#\n",
    "today=choice(weathers)\n",
    "if today==\"Sunny\":\n",
    "    print(\"天氣是%s,去運動\"%today)\n",
    "elif today==\"Rainny\":\n",
    "    print(\"天氣是%s,去電影院\"%today)\n",
    "else:\n",
    "    print(\"天氣是%s,去喝咖啡\"%today)"
   ]
  },
  {
   "cell_type": "code",
   "execution_count": 42,
   "metadata": {},
   "outputs": [
    {
     "name": "stdout",
     "output_type": "stream",
     "text": [
      "請輸入體重100\n",
      "請輸入身高183\n",
      "您的體重是：100.0 您的身高是：183.0 您的BMI是：29.86  您過胖！\n"
     ]
    }
   ],
   "source": [
    "my_weight=float(input(\"請輸入體重\"))\n",
    "my_height=float(input(\"請輸入身高\"))\n",
    "my_bmi=float(my_weight)/(float(my_height)/100)**2\n",
    "bmi_str=\"您的體重是：%.1f 您的身高是：%.1f 您的BMI是：%.2f\"%(my_weight,my_height,my_bmi)\n",
    "if(my_bmi<18.5):\n",
    "    print(\"%s  %s\"%(bmi_str,\"您過輕！\"))\n",
    "elif(my_bmi>25):\n",
    "    print(\"%s  %s\"%(bmi_str,\"您過胖！\"))\n",
    "else:\n",
    "    print(\"%s  %s\"%(bmi_str,\"您正常！\"))"
   ]
  },
  {
   "cell_type": "code",
   "execution_count": null,
   "metadata": {},
   "outputs": [],
   "source": []
  },
  {
   "cell_type": "code",
   "execution_count": null,
   "metadata": {},
   "outputs": [],
   "source": []
  }
 ],
 "metadata": {
  "kernelspec": {
   "display_name": "Python 3",
   "language": "python",
   "name": "python3"
  },
  "language_info": {
   "codemirror_mode": {
    "name": "ipython",
    "version": 3
   },
   "file_extension": ".py",
   "mimetype": "text/x-python",
   "name": "python",
   "nbconvert_exporter": "python",
   "pygments_lexer": "ipython3",
   "version": "3.7.1"
  }
 },
 "nbformat": 4,
 "nbformat_minor": 2
}
