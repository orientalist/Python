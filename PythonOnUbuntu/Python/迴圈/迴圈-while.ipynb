{
 "cells": [
  {
   "cell_type": "code",
   "execution_count": 3,
   "metadata": {},
   "outputs": [
    {
     "name": "stdout",
     "output_type": "stream",
     "text": [
      "Sunday\n",
      "Monday\n",
      "Tuesday\n",
      "Wednesday\n",
      "Thursday\n",
      "Friday\n",
      "Saturday\n"
     ]
    }
   ],
   "source": [
    "#當滿足條件時,在每次迭代實執行,直到不合和條件#\n",
    "#注意會造成無窮迴圈#\n",
    "weekdays=[\"Sunday\",\"Monday\",\"Tuesday\",\"Wednesday\",\"Thursday\",\"Friday\",\"Saturday\"]\n",
    "i=0\n",
    "while i<7:\n",
    "    print(weekdays[i])\n",
    "    i+=1    "
   ]
  },
  {
   "cell_type": "code",
   "execution_count": 37,
   "metadata": {},
   "outputs": [
    {
     "name": "stdout",
     "output_type": "stream",
     "text": [
      "遊玩紀錄[1, 1, 0, 0, 0, 0, 0, 1] 總共投擲8次\n"
     ]
    }
   ],
   "source": [
    "#練習-擲硬幣#\n",
    "#擲硬幣直到3次正面#\n",
    "from random import choice\n",
    "\n",
    "total_time=0\n",
    "positive_time=0\n",
    "play_record=[]\n",
    "while positive_time<3:\n",
    "    play=choice(range(0,2))\n",
    "    if play==1:\n",
    "        positive_time+=1\n",
    "    total_time+=1\n",
    "    play_record.append(play)\n",
    "print(\"遊玩紀錄%s 總共投擲%s次\"%(play_record,total_time))\n"
   ]
  },
  {
   "cell_type": "code",
   "execution_count": null,
   "metadata": {},
   "outputs": [],
   "source": []
  }
 ],
 "metadata": {
  "kernelspec": {
   "display_name": "Python 3",
   "language": "python",
   "name": "python3"
  },
  "language_info": {
   "codemirror_mode": {
    "name": "ipython",
    "version": 3
   },
   "file_extension": ".py",
   "mimetype": "text/x-python",
   "name": "python",
   "nbconvert_exporter": "python",
   "pygments_lexer": "ipython3",
   "version": "3.7.1"
  }
 },
 "nbformat": 4,
 "nbformat_minor": 2
}
