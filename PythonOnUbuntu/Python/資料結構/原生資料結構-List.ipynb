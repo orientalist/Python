{
 "cells": [
  {
   "cell_type": "code",
   "execution_count": 2,
   "metadata": {},
   "outputs": [
    {
     "name": "stdout",
     "output_type": "stream",
     "text": [
      "<class 'list'>\n"
     ]
    }
   ],
   "source": [
    "#以[]建立#\n",
    "seasons=['Sprint','Summer','Autumn','Winter']\n",
    "print(type(seasons))"
   ]
  },
  {
   "cell_type": "code",
   "execution_count": 3,
   "metadata": {},
   "outputs": [
    {
     "name": "stdout",
     "output_type": "stream",
     "text": [
      "Sprint\n"
     ]
    }
   ],
   "source": [
    "#以取引取值#\n",
    "print(seasons[0])"
   ]
  },
  {
   "cell_type": "code",
   "execution_count": 4,
   "metadata": {},
   "outputs": [
    {
     "name": "stdout",
     "output_type": "stream",
     "text": [
      "Winter\n"
     ]
    }
   ],
   "source": [
    "#特殊選擇法 -1#\n",
    "print(seasons[-1])"
   ]
  },
  {
   "cell_type": "code",
   "execution_count": 7,
   "metadata": {},
   "outputs": [
    {
     "name": "stdout",
     "output_type": "stream",
     "text": [
      "['Sprint', 'Summer']\n",
      "['Summer', 'Autumn', 'Winter']\n"
     ]
    }
   ],
   "source": [
    "#連選 ：#\n",
    "#開始索引（包含）：結束索引（不包含）#\n",
    "print(seasons[:2])\n",
    "print(seasons[1:])"
   ]
  },
  {
   "cell_type": "code",
   "execution_count": 14,
   "metadata": {},
   "outputs": [
    {
     "name": "stdout",
     "output_type": "stream",
     "text": [
      "<class 'str'>\n",
      "<class 'int'>\n",
      "<class 'int'>\n",
      "<class 'bool'>\n"
     ]
    }
   ],
   "source": [
    "#List可包含不同型別的element#\n",
    "chicago_bulls_best=[\"1995-96\",72,10,True]\n",
    "print(type(chicago_bulls_best[0]))\n",
    "print(type(chicago_bulls_best[1]))\n",
    "print(type(chicago_bulls_best[2]))\n",
    "print(type(chicago_bulls_best[3]))"
   ]
  },
  {
   "cell_type": "code",
   "execution_count": 15,
   "metadata": {},
   "outputs": [],
   "source": [
    "#將新元素插入list#\n",
    "seasons.append(\"Zen\")"
   ]
  },
  {
   "cell_type": "code",
   "execution_count": 19,
   "metadata": {},
   "outputs": [
    {
     "name": "stdout",
     "output_type": "stream",
     "text": [
      "['Sprint', 'Summer', 'Autumn', 'Winter', 'Zen']\n"
     ]
    }
   ],
   "source": [
    "print(seasons[:5])"
   ]
  },
  {
   "cell_type": "code",
   "execution_count": null,
   "metadata": {},
   "outputs": [],
   "source": []
  }
 ],
 "metadata": {
  "kernelspec": {
   "display_name": "Python 3",
   "language": "python",
   "name": "python3"
  },
  "language_info": {
   "codemirror_mode": {
    "name": "ipython",
    "version": 3
   },
   "file_extension": ".py",
   "mimetype": "text/x-python",
   "name": "python",
   "nbconvert_exporter": "python",
   "pygments_lexer": "ipython3",
   "version": "3.7.1"
  }
 },
 "nbformat": 4,
 "nbformat_minor": 2
}
