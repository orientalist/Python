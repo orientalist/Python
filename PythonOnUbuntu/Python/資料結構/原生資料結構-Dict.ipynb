{
 "cells": [
  {
   "cell_type": "code",
   "execution_count": 1,
   "metadata": {},
   "outputs": [
    {
     "data": {
      "text/plain": [
       "dict"
      ]
     },
     "execution_count": 1,
     "metadata": {},
     "output_type": "execute_result"
    }
   ],
   "source": [
    "#以鍵值對應建立#\n",
    "#以{}建立#\n",
    "chicago_bulls_bests={\n",
    "    \"Season\":\"1995-96\",\n",
    "    \"wins\":72,\n",
    "    \"loses\":10,\n",
    "    \"is_champion\":True\n",
    "}\n",
    "type(chicago_bulls_bests)"
   ]
  },
  {
   "cell_type": "code",
   "execution_count": 6,
   "metadata": {},
   "outputs": [
    {
     "name": "stdout",
     "output_type": "stream",
     "text": [
      "1995-96\n",
      "72\n",
      "10\n",
      "True\n"
     ]
    }
   ],
   "source": [
    "#取值-key#\n",
    "print(chicago_bulls_bests[\"Season\"])\n",
    "print(chicago_bulls_bests[\"wins\"])\n",
    "print(chicago_bulls_bests[\"loses\"])\n",
    "print(chicago_bulls_bests[\"is_champion\"])"
   ]
  },
  {
   "cell_type": "code",
   "execution_count": 7,
   "metadata": {},
   "outputs": [
    {
     "name": "stdout",
     "output_type": "stream",
     "text": [
      "Chandler Bing\n"
     ]
    }
   ],
   "source": [
    "my_dict={\n",
    "    \"genre\":\"SitCom\",\n",
    "    \"season\":10,\n",
    "    \"episode\":236,\n",
    "    \"characters\":[\"Rachel Green\",\"Monica Geller\",\"Phoebe Buffay\",\"Joey Tribbiani\",\"Chandler Bing\",\"Ross Geller\"]\n",
    "}\n",
    "print(my_dict[\"characters\"][4])"
   ]
  },
  {
   "cell_type": "code",
   "execution_count": null,
   "metadata": {},
   "outputs": [],
   "source": []
  }
 ],
 "metadata": {
  "kernelspec": {
   "display_name": "Python 3",
   "language": "python",
   "name": "python3"
  },
  "language_info": {
   "codemirror_mode": {
    "name": "ipython",
    "version": 3
   },
   "file_extension": ".py",
   "mimetype": "text/x-python",
   "name": "python",
   "nbconvert_exporter": "python",
   "pygments_lexer": "ipython3",
   "version": "3.7.1"
  }
 },
 "nbformat": 4,
 "nbformat_minor": 2
}
