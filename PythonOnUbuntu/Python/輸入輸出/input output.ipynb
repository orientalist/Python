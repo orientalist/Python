{
 "cells": [
  {
   "cell_type": "code",
   "execution_count": 3,
   "metadata": {},
   "outputs": [
    {
     "name": "stdout",
     "output_type": "stream",
     "text": [
      "請輸入體重89\n"
     ]
    }
   ],
   "source": [
    "my_weight=input(\"請輸入體重\")"
   ]
  },
  {
   "cell_type": "code",
   "execution_count": 5,
   "metadata": {},
   "outputs": [
    {
     "name": "stdout",
     "output_type": "stream",
     "text": [
      "89\n",
      "<class 'str'>\n"
     ]
    }
   ],
   "source": [
    "print(my_weight)\n",
    "print(type(my_weight))"
   ]
  },
  {
   "cell_type": "code",
   "execution_count": 12,
   "metadata": {},
   "outputs": [
    {
     "name": "stdout",
     "output_type": "stream",
     "text": [
      "請輸入體重89\n",
      "請輸入身高183\n",
      "您的身高是：183 您的體重是：89 您的BMI是：26.58 \n"
     ]
    }
   ],
   "source": [
    "my_weight=input(\"請輸入體重\")\n",
    "my_height=input(\"請輸入身高\")\n",
    "my_bmi=float(my_weight)/(float(my_height)/100)**2\n",
    "print(\"您的身高是：%s 您的體重是：%s 您的BMI是：%.2f \"%(my_height,my_weight,my_bmi))"
   ]
  },
  {
   "cell_type": "code",
   "execution_count": null,
   "metadata": {},
   "outputs": [],
   "source": []
  }
 ],
 "metadata": {
  "kernelspec": {
   "display_name": "Python 3",
   "language": "python",
   "name": "python3"
  },
  "language_info": {
   "codemirror_mode": {
    "name": "ipython",
    "version": 3
   },
   "file_extension": ".py",
   "mimetype": "text/x-python",
   "name": "python",
   "nbconvert_exporter": "python",
   "pygments_lexer": "ipython3",
   "version": "3.7.1"
  }
 },
 "nbformat": 4,
 "nbformat_minor": 2
}
